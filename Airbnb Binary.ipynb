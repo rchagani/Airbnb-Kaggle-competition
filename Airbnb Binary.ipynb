{
 "cells": [
  {
   "cell_type": "code",
   "execution_count": 1,
   "metadata": {},
   "outputs": [],
   "source": [
    "import readline\n",
    "readline.clear_history()"
   ]
  },
  {
   "cell_type": "code",
   "execution_count": 2,
   "metadata": {},
   "outputs": [],
   "source": [
    "#Import packages\n",
    "import numpy as np\n",
    "import pandas as pd\n",
    "import pandas_profiling\n",
    "import matplotlib.pyplot as plt\n",
    "import seaborn as sns\n",
    "\n",
    "# Draw inline\n",
    "%matplotlib inline\n",
    "\n",
    "\n",
    "import numpy as np\n",
    "import pandas as pd\n",
    "import matplotlib.pyplot as plt\n",
    "import warnings\n",
    "from sklearn import preprocessing\n",
    "from sklearn.model_selection import train_test_split\n",
    "warnings.filterwarnings('ignore')\n",
    "plt.style.use('ggplot')\n",
    "\n",
    "from sklearn.preprocessing import LabelEncoder"
   ]
  },
  {
   "cell_type": "markdown",
   "metadata": {},
   "source": [
    "# Read data"
   ]
  },
  {
   "cell_type": "code",
   "execution_count": 3,
   "metadata": {},
   "outputs": [],
   "source": [
    "train1 = pd.read_csv(\"C:/RAHIM/MMA -QUEEN'S/Marketing Analytics - MMA 831/Airbnb/all_usrs_NDF.csv\")"
   ]
  },
  {
   "cell_type": "code",
   "execution_count": 4,
   "metadata": {},
   "outputs": [],
   "source": [
    "#train test split dataset to measure performance. Original test_users dataset provided by airbnb does not come with labels\n",
    "# so we need to create our own test set\n",
    "x_train,x_test,y_train,y_test = train_test_split(train1.iloc[:,2:579],train1['country_destination'],test_size=0.25,random_state=1)"
   ]
  },
  {
   "cell_type": "code",
   "execution_count": 5,
   "metadata": {},
   "outputs": [
    {
     "data": {
      "text/plain": [
       "1    93358\n",
       "0    66730\n",
       "Name: country_destination, dtype: int64"
      ]
     },
     "execution_count": 5,
     "metadata": {},
     "output_type": "execute_result"
    }
   ],
   "source": [
    "y_train.value_counts()"
   ]
  },
  {
   "cell_type": "markdown",
   "metadata": {},
   "source": [
    "# Model building and Accuracy"
   ]
  },
  {
   "cell_type": "markdown",
   "metadata": {},
   "source": [
    "# Random Forest"
   ]
  },
  {
   "cell_type": "code",
   "execution_count": 6,
   "metadata": {},
   "outputs": [
    {
     "name": "stdout",
     "output_type": "stream",
     "text": [
      "Predicted  False  True  __all__\n",
      "Actual                         \n",
      "False       2588  3044     5632\n",
      "True        3492  4393     7885\n",
      "__all__     6080  7437    13517\n",
      "Accuracy = 0.68\n",
      "Kappa = 0.34\n",
      "F1 Score = 0.72\n",
      "Log Loss = 11.14\n",
      "             precision    recall  f1-score   support\n",
      "\n",
      "          0       0.60      0.65      0.63     22178\n",
      "          1       0.74      0.70      0.72     31185\n",
      "\n",
      "avg / total       0.68      0.68      0.68     53363\n",
      "\n",
      "0.6735191306312838\n"
     ]
    }
   ],
   "source": [
    "from sklearn.metrics import confusion_matrix\n",
    "#Random forest classification - instantiate classifier\n",
    "from sklearn.ensemble import RandomForestClassifier\n",
    "clf = RandomForestClassifier(random_state=1)\n",
    "clf.fit(x_train,y_train)\n",
    "\n",
    "#predict and store predictions in a series \n",
    "rfc_predict = clf.predict(x_test)\n",
    "from pandas_ml import ConfusionMatrix\n",
    "print(ConfusionMatrix(y_test, rfc_predict))\n",
    "\n",
    "from sklearn.metrics import accuracy_score, cohen_kappa_score, f1_score, log_loss\n",
    "print(\"Accuracy = {:.2f}\".format(accuracy_score(y_test, rfc_predict)))\n",
    "print(\"Kappa = {:.2f}\".format(cohen_kappa_score(y_test, rfc_predict)))\n",
    "print(\"F1 Score = {:.2f}\".format(f1_score(y_test, rfc_predict)))\n",
    "print(\"Log Loss = {:.2f}\".format(log_loss(y_test, rfc_predict)))\n",
    "from sklearn.metrics import classification_report\n",
    "print(classification_report(y_test, rfc_predict))\n",
    "from sklearn.metrics import roc_curve, roc_auc_score\n",
    "print(roc_auc_score(y_test, rfc_predict))"
   ]
  },
  {
   "cell_type": "code",
   "execution_count": 7,
   "metadata": {},
   "outputs": [
    {
     "name": "stdout",
     "output_type": "stream",
     "text": [
      "Accuracy = 0.68\n",
      "             precision    recall  f1-score   support\n",
      "\n",
      "          0       0.60      0.65      0.63     22178\n",
      "          1       0.74      0.70      0.72     31185\n",
      "\n",
      "avg / total       0.68      0.68      0.68     53363\n",
      "\n"
     ]
    }
   ],
   "source": [
    "print(\"Accuracy = {:.2f}\".format(accuracy_score(y_test, rfc_predict)))\n",
    "from sklearn.metrics import classification_report\n",
    "print(classification_report(y_test, rfc_predict))"
   ]
  },
  {
   "cell_type": "code",
   "execution_count": 8,
   "metadata": {},
   "outputs": [],
   "source": [
    "from pandas_ml import ConfusionMatrix"
   ]
  },
  {
   "cell_type": "markdown",
   "metadata": {},
   "source": [
    "# Naive Bayes"
   ]
  },
  {
   "cell_type": "code",
   "execution_count": 13,
   "metadata": {},
   "outputs": [
    {
     "name": "stdout",
     "output_type": "stream",
     "text": [
      "Predicted  False  True  __all__\n",
      "Actual                         \n",
      "False       2173  3459     5632\n",
      "True        2990  4895     7885\n",
      "__all__     5163  8354    13517\n",
      "Accuracy = 0.64\n",
      "Kappa = 0.26\n",
      "F1 Score = 0.70\n",
      "Log Loss = 12.30\n",
      "             precision    recall  f1-score   support\n",
      "\n",
      "          0       0.58      0.53      0.55     22178\n",
      "          1       0.68      0.73      0.70     31185\n",
      "\n",
      "avg / total       0.64      0.64      0.64     53363\n",
      "\n",
      "0.6270761130667344\n"
     ]
    }
   ],
   "source": [
    "#import NB package\n",
    "from sklearn.naive_bayes import BernoulliNB\n",
    "\n",
    "#Generate predictions using Naive Bayes\n",
    "clf = BernoulliNB()\n",
    "clf.fit(x_train,y_train)\n",
    "y_preds_NB = clf.predict(x_test)\n",
    "\n",
    "#predict and store predictions in a series \n",
    "NB_predict = clf.predict(x_test)\n",
    "\n",
    "\n",
    "print(ConfusionMatrix(y_test, NB_predict))\n",
    "print(\"Accuracy = {:.2f}\".format(accuracy_score(y_test, NB_predict)))\n",
    "print(\"Kappa = {:.2f}\".format(cohen_kappa_score(y_test, NB_predict)))\n",
    "print(\"F1 Score = {:.2f}\".format(f1_score(y_test, NB_predict)))\n",
    "print(\"Log Loss = {:.2f}\".format(log_loss(y_test, NB_predict)))\n",
    "print(classification_report(y_test, NB_predict))\n",
    "print(roc_auc_score(y_test, NB_predict))"
   ]
  },
  {
   "cell_type": "code",
   "execution_count": 14,
   "metadata": {},
   "outputs": [
    {
     "name": "stdout",
     "output_type": "stream",
     "text": [
      "Accuracy = 0.64\n",
      "             precision    recall  f1-score   support\n",
      "\n",
      "          0       0.58      0.53      0.55     22178\n",
      "          1       0.68      0.73      0.70     31185\n",
      "\n",
      "avg / total       0.64      0.64      0.64     53363\n",
      "\n"
     ]
    }
   ],
   "source": [
    "print(\"Accuracy = {:.2f}\".format(accuracy_score(y_test, NB_predict)))\n",
    "print(classification_report(y_test, NB_predict))"
   ]
  },
  {
   "cell_type": "markdown",
   "metadata": {},
   "source": [
    "# Neural Network"
   ]
  },
  {
   "cell_type": "code",
   "execution_count": 27,
   "metadata": {},
   "outputs": [
    {
     "name": "stdout",
     "output_type": "stream",
     "text": [
      "Predicted  False   True  __all__\n",
      "Actual                          \n",
      "False        909   4723     5632\n",
      "True        1287   6598     7885\n",
      "__all__     2196  11321    13517\n",
      "Accuracy = 0.62\n",
      "Kappa = 0.15\n",
      "F1 Score = 0.74\n",
      "Log Loss = 12.97\n",
      "             precision    recall  f1-score   support\n",
      "\n",
      "          0       0.63      0.24      0.34     22178\n",
      "          1       0.62      0.90      0.74     31185\n",
      "\n",
      "avg / total       0.63      0.62      0.57     53363\n",
      "\n",
      "0.5685273499458728\n"
     ]
    }
   ],
   "source": [
    "#import NN package\n",
    "\n",
    "from sklearn.neural_network import MLPClassifier\n",
    "\n",
    "#Generate prediction using Neural Net\n",
    "clf = MLPClassifier()\n",
    "clf.fit(x_train,y_train)\n",
    "y_preds_NN = clf.predict(x_test)\n",
    "\n",
    "print(ConfusionMatrix(y_test, y_preds_NN))\n",
    "print(\"Accuracy = {:.2f}\".format(accuracy_score(y_test, y_preds_NN)))\n",
    "print(\"Kappa = {:.2f}\".format(cohen_kappa_score(y_test, y_preds_NN)))\n",
    "print(\"F1 Score = {:.2f}\".format(f1_score(y_test, y_preds_NN)))\n",
    "print(\"Log Loss = {:.2f}\".format(log_loss(y_test, y_preds_NN)))\n",
    "print(classification_report(y_test, y_preds_NN))\n",
    "print(roc_auc_score(y_test, y_preds_NN))"
   ]
  },
  {
   "cell_type": "code",
   "execution_count": 28,
   "metadata": {},
   "outputs": [
    {
     "name": "stdout",
     "output_type": "stream",
     "text": [
      "Accuracy = 0.62\n",
      "             precision    recall  f1-score   support\n",
      "\n",
      "          0       0.63      0.24      0.34     22178\n",
      "          1       0.62      0.90      0.74     31185\n",
      "\n",
      "avg / total       0.63      0.62      0.57     53363\n",
      "\n"
     ]
    }
   ],
   "source": [
    "print(\"Accuracy = {:.2f}\".format(accuracy_score(y_test, y_preds_NN)))\n",
    "print(classification_report(y_test, y_preds_NN))"
   ]
  },
  {
   "cell_type": "markdown",
   "metadata": {},
   "source": [
    "# XGBoost"
   ]
  },
  {
   "cell_type": "code",
   "execution_count": 17,
   "metadata": {},
   "outputs": [
    {
     "name": "stdout",
     "output_type": "stream",
     "text": [
      "Predicted  False  True  __all__\n",
      "Actual                         \n",
      "False       2023  3609     5632\n",
      "True        2778  5107     7885\n",
      "__all__     4801  8716    13517\n",
      "Accuracy = 0.72\n",
      "Kappa = 0.41\n",
      "F1 Score = 0.77\n",
      "Log Loss = 9.72\n",
      "             precision    recall  f1-score   support\n",
      "\n",
      "          0       0.69      0.58      0.63     22178\n",
      "          1       0.73      0.81      0.77     31185\n",
      "\n",
      "avg / total       0.72      0.72      0.71     53363\n",
      "\n",
      "0.6991749917111386\n"
     ]
    }
   ],
   "source": [
    "#import XGBoost package\n",
    "from xgboost.sklearn import XGBClassifier\n",
    "\n",
    "#Classifier\n",
    "xgb = XGBClassifier(seed=0)                  \n",
    "xgb.fit(x_train, y_train)\n",
    "y_preds_XGB = xgb.predict(x_test) \n",
    "\n",
    "print(ConfusionMatrix(y_test, y_preds_XGB))\n",
    "print(\"Accuracy = {:.2f}\".format(accuracy_score(y_test, y_preds_XGB)))\n",
    "print(\"Kappa = {:.2f}\".format(cohen_kappa_score(y_test, y_preds_XGB)))\n",
    "print(\"F1 Score = {:.2f}\".format(f1_score(y_test, y_preds_XGB)))\n",
    "print(\"Log Loss = {:.2f}\".format(log_loss(y_test, y_preds_XGB)))\n",
    "print(classification_report(y_test, y_preds_XGB))\n",
    "print(roc_auc_score(y_test, y_preds_XGB))"
   ]
  },
  {
   "cell_type": "code",
   "execution_count": 18,
   "metadata": {},
   "outputs": [
    {
     "name": "stdout",
     "output_type": "stream",
     "text": [
      "Accuracy = 0.72\n",
      "             precision    recall  f1-score   support\n",
      "\n",
      "          0       0.69      0.58      0.63     22178\n",
      "          1       0.73      0.81      0.77     31185\n",
      "\n",
      "avg / total       0.72      0.72      0.71     53363\n",
      "\n"
     ]
    }
   ],
   "source": [
    "print(\"Accuracy = {:.2f}\".format(accuracy_score(y_test, y_preds_XGB)))\n",
    "print(classification_report(y_test, y_preds_XGB))"
   ]
  },
  {
   "cell_type": "markdown",
   "metadata": {},
   "source": [
    "# AdaBoost"
   ]
  },
  {
   "cell_type": "code",
   "execution_count": 19,
   "metadata": {},
   "outputs": [
    {
     "name": "stdout",
     "output_type": "stream",
     "text": [
      "Predicted  False  True  __all__\n",
      "Actual                         \n",
      "False       2006  3626     5632\n",
      "True        2760  5125     7885\n",
      "__all__     4766  8751    13517\n",
      "Accuracy = 0.71\n",
      "Kappa = 0.40\n",
      "F1 Score = 0.77\n",
      "Log Loss = 9.91\n",
      "             precision    recall  f1-score   support\n",
      "\n",
      "          0       0.68      0.57      0.62     22178\n",
      "          1       0.73      0.81      0.77     31185\n",
      "\n",
      "avg / total       0.71      0.71      0.71     53363\n",
      "\n",
      "0.6931343756470759\n"
     ]
    }
   ],
   "source": [
    "#import AdaBoostClassifier package\n",
    "from sklearn.ensemble import AdaBoostClassifier\n",
    "\n",
    "AdaB = AdaBoostClassifier(random_state=1)\n",
    "AdaB.fit(x_train, y_train)\n",
    "y_preds_AdaB = AdaB.predict(x_test) \n",
    "\n",
    "print(ConfusionMatrix(y_test, y_preds_AdaB))\n",
    "print(\"Accuracy = {:.2f}\".format(accuracy_score(y_test, y_preds_AdaB)))\n",
    "print(\"Kappa = {:.2f}\".format(cohen_kappa_score(y_test, y_preds_AdaB)))\n",
    "print(\"F1 Score = {:.2f}\".format(f1_score(y_test, y_preds_AdaB)))\n",
    "print(\"Log Loss = {:.2f}\".format(log_loss(y_test, y_preds_AdaB)))\n",
    "print(classification_report(y_test, y_preds_AdaB))\n",
    "print(roc_auc_score(y_test, y_preds_AdaB))"
   ]
  },
  {
   "cell_type": "code",
   "execution_count": 20,
   "metadata": {},
   "outputs": [
    {
     "name": "stdout",
     "output_type": "stream",
     "text": [
      "Accuracy = 0.71\n",
      "             precision    recall  f1-score   support\n",
      "\n",
      "          0       0.68      0.57      0.62     22178\n",
      "          1       0.73      0.81      0.77     31185\n",
      "\n",
      "avg / total       0.71      0.71      0.71     53363\n",
      "\n"
     ]
    }
   ],
   "source": [
    "print(\"Accuracy = {:.2f}\".format(accuracy_score(y_test, y_preds_AdaB)))\n",
    "print(classification_report(y_test, y_preds_AdaB))"
   ]
  },
  {
   "cell_type": "markdown",
   "metadata": {},
   "source": [
    "# Gradient Boosting (GBM)"
   ]
  },
  {
   "cell_type": "code",
   "execution_count": 21,
   "metadata": {},
   "outputs": [
    {
     "name": "stdout",
     "output_type": "stream",
     "text": [
      "Predicted  False  True  __all__\n",
      "Actual                         \n",
      "False       1885  3747     5632\n",
      "True        2565  5320     7885\n",
      "__all__     4450  9067    13517\n",
      "Accuracy = 0.71\n",
      "Kappa = 0.38\n",
      "F1 Score = 0.77\n",
      "Log Loss = 10.03\n",
      "             precision    recall  f1-score   support\n",
      "\n",
      "          0       0.69      0.54      0.61     22178\n",
      "          1       0.72      0.83      0.77     31185\n",
      "\n",
      "avg / total       0.71      0.71      0.70     53363\n",
      "\n",
      "0.6853626429437294\n"
     ]
    }
   ],
   "source": [
    "from sklearn.ensemble import GradientBoostingClassifier\n",
    "GBM = GradientBoostingClassifier(learning_rate=0.01,random_state=1)\n",
    "\n",
    "GBM.fit(x_train, y_train)\n",
    "y_preds_GBM = GBM.predict(x_test) \n",
    "\n",
    "print(ConfusionMatrix(y_test, y_preds_GBM))\n",
    "print(\"Accuracy = {:.2f}\".format(accuracy_score(y_test, y_preds_GBM)))\n",
    "print(\"Kappa = {:.2f}\".format(cohen_kappa_score(y_test, y_preds_GBM)))\n",
    "print(\"F1 Score = {:.2f}\".format(f1_score(y_test, y_preds_GBM)))\n",
    "print(\"Log Loss = {:.2f}\".format(log_loss(y_test, y_preds_GBM)))\n",
    "print(classification_report(y_test, y_preds_GBM))\n",
    "print(roc_auc_score(y_test, y_preds_GBM))"
   ]
  },
  {
   "cell_type": "code",
   "execution_count": 22,
   "metadata": {},
   "outputs": [
    {
     "name": "stdout",
     "output_type": "stream",
     "text": [
      "Accuracy = 0.71\n",
      "             precision    recall  f1-score   support\n",
      "\n",
      "          0       0.69      0.54      0.61     22178\n",
      "          1       0.72      0.83      0.77     31185\n",
      "\n",
      "avg / total       0.71      0.71      0.70     53363\n",
      "\n"
     ]
    }
   ],
   "source": [
    "print(\"Accuracy = {:.2f}\".format(accuracy_score(y_test, y_preds_GBM)))\n",
    "print(classification_report(y_test, y_preds_GBM))"
   ]
  },
  {
   "cell_type": "markdown",
   "metadata": {},
   "source": [
    "# Decision Tree"
   ]
  },
  {
   "cell_type": "code",
   "execution_count": 23,
   "metadata": {},
   "outputs": [
    {
     "name": "stdout",
     "output_type": "stream",
     "text": [
      "Predicted  False  True  __all__\n",
      "Actual                         \n",
      "False       2458  3174     5632\n",
      "True        3329  4556     7885\n",
      "__all__     5787  7730    13517\n",
      "Accuracy = 0.63\n",
      "Kappa = 0.24\n",
      "F1 Score = 0.68\n",
      "Log Loss = 12.75\n",
      "             precision    recall  f1-score   support\n",
      "\n",
      "          0       0.56      0.56      0.56     22178\n",
      "          1       0.69      0.68      0.68     31185\n",
      "\n",
      "avg / total       0.63      0.63      0.63     53363\n",
      "\n",
      "0.6206792736882616\n"
     ]
    }
   ],
   "source": [
    "#import DecisionTreeClassifier package\n",
    "from sklearn.tree import DecisionTreeClassifier\n",
    "\n",
    "#DecisionTreeClassifier\n",
    "dtc = DecisionTreeClassifier(random_state=0)\n",
    "dtc.fit(x_train, y_train)\n",
    "y_preds_dtc = dtc.predict(x_test) \n",
    "\n",
    "print(ConfusionMatrix(y_test, y_preds_dtc))\n",
    "print(\"Accuracy = {:.2f}\".format(accuracy_score(y_test, y_preds_dtc)))\n",
    "print(\"Kappa = {:.2f}\".format(cohen_kappa_score(y_test, y_preds_dtc)))\n",
    "print(\"F1 Score = {:.2f}\".format(f1_score(y_test, y_preds_dtc)))\n",
    "print(\"Log Loss = {:.2f}\".format(log_loss(y_test, y_preds_dtc)))\n",
    "print(classification_report(y_test, y_preds_dtc))\n",
    "print(roc_auc_score(y_test, y_preds_dtc))"
   ]
  },
  {
   "cell_type": "code",
   "execution_count": 24,
   "metadata": {},
   "outputs": [
    {
     "name": "stdout",
     "output_type": "stream",
     "text": [
      "Accuracy = 0.63\n",
      "             precision    recall  f1-score   support\n",
      "\n",
      "          0       0.56      0.56      0.56     22178\n",
      "          1       0.69      0.68      0.68     31185\n",
      "\n",
      "avg / total       0.63      0.63      0.63     53363\n",
      "\n"
     ]
    }
   ],
   "source": [
    "print(\"Accuracy = {:.2f}\".format(accuracy_score(y_test, y_preds_dtc)))\n",
    "print(classification_report(y_test, y_preds_dtc))"
   ]
  },
  {
   "cell_type": "markdown",
   "metadata": {},
   "source": [
    "# KNN"
   ]
  },
  {
   "cell_type": "code",
   "execution_count": 11,
   "metadata": {},
   "outputs": [
    {
     "name": "stdout",
     "output_type": "stream",
     "text": [
      "Predicted  False  True  __all__\n",
      "Actual                         \n",
      "False       2192  3440     5632\n",
      "True        3070  4815     7885\n",
      "__all__     5262  8255    13517\n",
      "Accuracy = 0.63\n",
      "Kappa = 0.24\n",
      "F1 Score = 0.69\n",
      "Log Loss = 12.70\n",
      "             precision    recall  f1-score   support\n",
      "\n",
      "          0       0.56      0.53      0.55     22178\n",
      "          1       0.68      0.71      0.69     31185\n",
      "\n",
      "avg / total       0.63      0.63      0.63     53363\n",
      "\n",
      "0.6175431424552175\n"
     ]
    }
   ],
   "source": [
    "from sklearn.neighbors import KNeighborsClassifier\n",
    "\n",
    "#KNN\n",
    "knn_clf = KNeighborsClassifier(n_neighbors=3)\n",
    "knn_clf.fit(x_train, y_train)\n",
    "y_preds_knn = knn_clf.predict(x_test)\n",
    "\n",
    "\n",
    "print(ConfusionMatrix(y_test, y_preds_knn))\n",
    "print(\"Accuracy = {:.2f}\".format(accuracy_score(y_test, y_preds_knn)))\n",
    "print(\"Kappa = {:.2f}\".format(cohen_kappa_score(y_test, y_preds_knn)))\n",
    "print(\"F1 Score = {:.2f}\".format(f1_score(y_test, y_preds_knn)))\n",
    "print(\"Log Loss = {:.2f}\".format(log_loss(y_test, y_preds_knn)))\n",
    "print(classification_report(y_test, y_preds_knn))\n",
    "print(roc_auc_score(y_test, y_preds_knn))"
   ]
  },
  {
   "cell_type": "code",
   "execution_count": 12,
   "metadata": {},
   "outputs": [
    {
     "name": "stdout",
     "output_type": "stream",
     "text": [
      "Accuracy = 0.63\n",
      "             precision    recall  f1-score   support\n",
      "\n",
      "          0       0.56      0.53      0.55     22178\n",
      "          1       0.68      0.71      0.69     31185\n",
      "\n",
      "avg / total       0.63      0.63      0.63     53363\n",
      "\n"
     ]
    }
   ],
   "source": [
    "print(\"Accuracy = {:.2f}\".format(accuracy_score(y_test, y_preds_knn)))\n",
    "print(classification_report(y_test, y_preds_knn))"
   ]
  },
  {
   "cell_type": "markdown",
   "metadata": {},
   "source": [
    "# SVC - Linear"
   ]
  },
  {
   "cell_type": "code",
   "execution_count": 25,
   "metadata": {},
   "outputs": [
    {
     "name": "stdout",
     "output_type": "stream",
     "text": [
      "Predicted  False   True  __all__\n",
      "Actual                          \n",
      "False        774   4858     5632\n",
      "True        1085   6800     7885\n",
      "__all__     1859  11658    13517\n",
      "Accuracy = 0.60\n",
      "Kappa = 0.10\n",
      "F1 Score = 0.73\n",
      "Log Loss = 13.64\n",
      "             precision    recall  f1-score   support\n",
      "\n",
      "          0       0.58      0.19      0.28     22178\n",
      "          1       0.61      0.90      0.73     31185\n",
      "\n",
      "avg / total       0.60      0.60      0.54     53363\n",
      "\n",
      "0.544435560242516\n"
     ]
    }
   ],
   "source": [
    "from sklearn.svm import SVC\n",
    "\n",
    "#SVM\n",
    "svm_clf = SVC(kernel=\"linear\", C=0.025)\n",
    "svm_clf.fit(x_train, y_train)\n",
    "y_pred_svm = svm_clf.predict(x_test)\n",
    "\n",
    "print(ConfusionMatrix(y_test, y_pred_svm))\n",
    "print(\"Accuracy = {:.2f}\".format(accuracy_score(y_test, y_pred_svm)))\n",
    "print(\"Kappa = {:.2f}\".format(cohen_kappa_score(y_test, y_pred_svm)))\n",
    "print(\"F1 Score = {:.2f}\".format(f1_score(y_test, y_pred_svm)))\n",
    "print(\"Log Loss = {:.2f}\".format(log_loss(y_test, y_pred_svm)))\n",
    "print(classification_report(y_test, y_pred_svm))\n",
    "print(roc_auc_score(y_test, y_pred_svm))"
   ]
  },
  {
   "cell_type": "code",
   "execution_count": 26,
   "metadata": {},
   "outputs": [
    {
     "name": "stdout",
     "output_type": "stream",
     "text": [
      "Accuracy = 0.60\n",
      "             precision    recall  f1-score   support\n",
      "\n",
      "          0       0.58      0.19      0.28     22178\n",
      "          1       0.61      0.90      0.73     31185\n",
      "\n",
      "avg / total       0.60      0.60      0.54     53363\n",
      "\n"
     ]
    }
   ],
   "source": [
    "print(\"Accuracy = {:.2f}\".format(accuracy_score(y_test, y_pred_svm)))\n",
    "print(classification_report(y_test, y_pred_svm))"
   ]
  },
  {
   "cell_type": "code",
   "execution_count": null,
   "metadata": {},
   "outputs": [],
   "source": [
    "from sklearn.linear_model import LogisticRegression\n",
    "from sklearn.neighbors import KNeighborsClassifier\n",
    "from sklearn.naive_bayes import GaussianNB \n",
    "from sklearn.ensemble import RandomForestClassifier\n",
    "from sklearn.model_selection import GridSearchCV\n",
    "from mlxtend.classifier import StackingClassifier\n",
    "\n",
    "# Initializing models\n",
    "\n",
    "clf1 = KNeighborsClassifier(n_neighbors=1)\n",
    "clf2 = RandomForestClassifier(random_state=1)\n",
    "clf3 = GaussianNB()\n",
    "lr = LogisticRegression()\n",
    "sclf = StackingClassifier(classifiers=[clf1, clf2, clf3], \n",
    "                          meta_classifier=lr)\n",
    "\n",
    "params = {'kneighborsclassifier__n_neighbors': [1, 5],\n",
    "          'randomforestclassifier__n_estimators': [10, 50],\n",
    "          'meta_classifier__C': [0.1, 10.0]}\n",
    "\n",
    "grid = GridSearchCV(estimator=sclf, \n",
    "                    param_grid=params, \n",
    "                    cv=5,\n",
    "                    refit=True)\n",
    "grid.fit(x_train, y_train)\n",
    "\n",
    "cv_keys = ('mean_test_score', 'std_test_score', 'params')\n",
    "\n",
    "for r, _ in enumerate(grid.cv_results_['mean_test_score']):\n",
    "    print(\"%0.3f +/- %0.2f %r\"\n",
    "          % (grid.cv_results_[cv_keys[0]][r],\n",
    "             grid.cv_results_[cv_keys[1]][r] / 2.0,\n",
    "             grid.cv_results_[cv_keys[2]][r]))\n",
    "\n",
    "print('Best parameters: %s' % grid.best_params_)\n",
    "print('Accuracy: %.2f' % grid.best_score_)"
   ]
  },
  {
   "cell_type": "code",
   "execution_count": null,
   "metadata": {},
   "outputs": [],
   "source": []
  }
 ],
 "metadata": {
  "kernelspec": {
   "display_name": "Python 3",
   "language": "python",
   "name": "python3"
  },
  "language_info": {
   "codemirror_mode": {
    "name": "ipython",
    "version": 3
   },
   "file_extension": ".py",
   "mimetype": "text/x-python",
   "name": "python",
   "nbconvert_exporter": "python",
   "pygments_lexer": "ipython3",
   "version": "3.7.3"
  }
 },
 "nbformat": 4,
 "nbformat_minor": 2
}
