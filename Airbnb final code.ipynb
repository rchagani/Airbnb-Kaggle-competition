{
 "cells": [
  {
   "cell_type": "markdown",
   "metadata": {},
   "source": [
    "# Import packages"
   ]
  },
  {
   "cell_type": "code",
   "execution_count": 1,
   "metadata": {},
   "outputs": [],
   "source": [
    "#Import packages\n",
    "import numpy as np\n",
    "import pandas as pd\n",
    "import matplotlib.pyplot as plt\n",
    "import seaborn as sns\n",
    "\n",
    "# Draw inline\n",
    "%matplotlib inline\n",
    "\n",
    "\n",
    "import numpy as np\n",
    "import pandas as pd\n",
    "import matplotlib.pyplot as plt\n",
    "import warnings\n",
    "from sklearn import preprocessing\n",
    "from sklearn.model_selection import train_test_split\n",
    "warnings.filterwarnings('ignore')\n",
    "plt.style.use('ggplot')\n",
    "\n",
    "from sklearn.preprocessing import LabelEncoder\n"
   ]
  },
  {
   "cell_type": "markdown",
   "metadata": {},
   "source": [
    "# Read files"
   ]
  },
  {
   "cell_type": "code",
   "execution_count": 2,
   "metadata": {},
   "outputs": [],
   "source": [
    "#read files, join - MUST HAVE FILES IN LOCAL DIRECTORY\n",
    "train = pd.read_csv(\"C:/RAHIM/MMA -QUEEN'S/Marketing Analytics - MMA 831/Airbnb/train_users_2.csv\")\n",
    "countries = pd.read_csv(\"C:/RAHIM/MMA -QUEEN'S/Marketing Analytics - MMA 831/Airbnb/countries.csv\")\n",
    "demographics = pd.read_csv(\"C:/RAHIM/MMA -QUEEN'S/Marketing Analytics - MMA 831/Airbnb/age_gender_bkts.csv\")"
   ]
  },
  {
   "cell_type": "markdown",
   "metadata": {},
   "source": [
    "# Data cleaning and exploration"
   ]
  },
  {
   "cell_type": "code",
   "execution_count": 3,
   "metadata": {},
   "outputs": [
    {
     "data": {
      "text/plain": [
       "id                              0\n",
       "date_account_created            0\n",
       "timestamp_first_active          0\n",
       "date_first_booking         124543\n",
       "gender                          0\n",
       "age                         87990\n",
       "signup_method                   0\n",
       "signup_flow                     0\n",
       "language                        0\n",
       "affiliate_channel               0\n",
       "affiliate_provider              0\n",
       "first_affiliate_tracked      6065\n",
       "signup_app                      0\n",
       "first_device_type               0\n",
       "first_browser                   0\n",
       "country_destination             0\n",
       "dtype: int64"
      ]
     },
     "execution_count": 3,
     "metadata": {},
     "output_type": "execute_result"
    }
   ],
   "source": [
    "#Number of NaN in the dataset\n",
    "train.isnull().sum()\n",
    "#date_first_booking is NaN for 124543 users; that makes sense as those are the users who did not book a trip anywhere\n",
    "#age is NaN for 87990 users; that's not great as that seems like it would be an important variable"
   ]
  },
  {
   "cell_type": "code",
   "execution_count": 4,
   "metadata": {},
   "outputs": [
    {
     "data": {
      "text/plain": [
       "country_destination              0\n",
       "lat_destination                  0\n",
       "lng_destination                  0\n",
       "distance_km                      0\n",
       "destination_km2                  0\n",
       "destination_language             0\n",
       "language_levenshtein_distance    0\n",
       "dtype: int64"
      ]
     },
     "execution_count": 4,
     "metadata": {},
     "output_type": "execute_result"
    }
   ],
   "source": [
    "#Number of NaN in the dataset\n",
    "countries.isnull().sum()\n",
    "#No NA's in country dataset"
   ]
  },
  {
   "cell_type": "code",
   "execution_count": 5,
   "metadata": {},
   "outputs": [
    {
     "data": {
      "text/plain": [
       "age_bucket                 0\n",
       "country_destination        0\n",
       "gender                     0\n",
       "population_in_thousands    0\n",
       "year                       0\n",
       "dtype: int64"
      ]
     },
     "execution_count": 5,
     "metadata": {},
     "output_type": "execute_result"
    }
   ],
   "source": [
    "#Number of NaN in the dataset\n",
    "demographics.isnull().sum()\n",
    "#No NA's in demographics dataset"
   ]
  },
  {
   "cell_type": "code",
   "execution_count": 6,
   "metadata": {},
   "outputs": [
    {
     "name": "stdout",
     "output_type": "stream",
     "text": [
      "Date Account Created \n",
      " 177680    2014-04-19\n",
      "143827    2014-01-20\n",
      "192754    2014-05-21\n",
      "Name: date_account_created, dtype: object\n",
      "\n",
      "\n",
      "Date of First Booking \n",
      " 212000           NaN\n",
      "27691     2012-06-23\n",
      "180580    2014-04-28\n",
      "Name: date_first_booking, dtype: object\n"
     ]
    }
   ],
   "source": [
    "#checking what format the dates are in, as they're not in timestamp form (from users.dtypes)\n",
    "print(\"Date Account Created\",\"\\n\", train['date_account_created'].sample(3))\n",
    "print(\"\\n\")\n",
    "print(\"Date of First Booking\", \"\\n\", train['date_first_booking'].sample(3))"
   ]
  },
  {
   "cell_type": "code",
   "execution_count": 7,
   "metadata": {},
   "outputs": [
    {
     "name": "stdout",
     "output_type": "stream",
     "text": [
      "Date Account Created \n",
      " 198777    2014-06-03\n",
      "117418    2013-10-16\n",
      "127818    2013-11-26\n",
      "Name: date_account_created, dtype: object\n",
      "\n",
      "\n",
      "Date of First Booking \n",
      " 161274           NaN\n",
      "209903    2014-07-04\n",
      "159033    2014-08-18\n",
      "Name: date_first_booking, dtype: object\n"
     ]
    }
   ],
   "source": [
    "#checking what format the dates are in, as they're not in timestamp form (from users.dtypes)\n",
    "print(\"Date Account Created\",\"\\n\", train['date_account_created'].sample(3))\n",
    "print(\"\\n\")\n",
    "print(\"Date of First Booking\", \"\\n\", train['date_first_booking'].sample(3))"
   ]
  },
  {
   "cell_type": "code",
   "execution_count": 8,
   "metadata": {},
   "outputs": [],
   "source": [
    "#Changing it to date format\n",
    "train.date_account_created = train.date_account_created.astype('datetime64')\n",
    "train['date_first_booking'] = pd.to_datetime(train['date_first_booking'], errors='coerce')"
   ]
  },
  {
   "cell_type": "code",
   "execution_count": 9,
   "metadata": {},
   "outputs": [
    {
     "data": {
      "image/png": "[encoded data removed]",
      "text/plain": [
       "<Figure size 432x288 with 1 Axes>"
      ]
     },
     "metadata": {
      "needs_background": "light"
     },
     "output_type": "display_data"
    }
   ],
   "source": [
    "#Accounts created over time - Appendix [4]\n",
    "train.groupby([train[\"date_account_created\"].dt.year,train[\"date_account_created\"].dt.month,])['id'].count().plot(kind='bar')\n",
    "plt.xlabel(\"created date\")\n",
    "plt.title(\"Accounts created over time\")\n",
    "plt.xticks([])\n",
    "#plt.savefig(\"CreatedOverTime\")\n",
    "plt.show()"
   ]
  },
  {
   "cell_type": "code",
   "execution_count": 10,
   "metadata": {},
   "outputs": [
    {
     "data": {
      "image/png": "[encoded data removed]",
      "text/plain": [
       "<Figure size 432x288 with 1 Axes>"
      ]
     },
     "metadata": {
      "needs_background": "light"
     },
     "output_type": "display_data"
    }
   ],
   "source": [
    "#Bookings by Month - appendix [5]\n",
    "train.groupby(train[\"date_first_booking\"].dt.month)['id'].count().plot(kind='bar')\n",
    "plt.xlabel(\"Booked Month\")\n",
    "plt.title(\"Bookings by Month\")\n",
    "plt.tight_layout()\n",
    "plt.savefig(\"Monthly\")\n",
    "plt.show()"
   ]
  },
  {
   "cell_type": "code",
   "execution_count": 11,
   "metadata": {},
   "outputs": [
    {
     "data": {
      "image/png": "[encoded data removed]",
      "text/plain": [
       "<Figure size 432x288 with 1 Axes>"
      ]
     },
     "metadata": {
      "needs_background": "light"
     },
     "output_type": "display_data"
    }
   ],
   "source": [
    "#check baseline for desintation country - Appendix[3]\n",
    "train.groupby(train[\"country_destination\"])['id'].count().sort_values().plot(kind='bar')\n",
    "plt.title(\"Outcome Counts\")\n",
    "#plt.savefig(\"outcomecoountry\")\n",
    "plt.show()\n",
    "\n",
    "#which algorithms do best with unbalanced datasets?"
   ]
  },
  {
   "cell_type": "code",
   "execution_count": 12,
   "metadata": {},
   "outputs": [
    {
     "data": {
      "image/png": "[encoded data removed]",
      "text/plain": [
       "<Figure size 432x288 with 1 Axes>"
      ]
     },
     "metadata": {
      "needs_background": "light"
     },
     "output_type": "display_data"
    }
   ],
   "source": [
    "#examining age\n",
    "train['age'] = train['age'].dropna()\n",
    "\n",
    "age_plot = sns.countplot(train['age'])\n",
    "\n",
    "#limiting tick frequency for ease of readability \n",
    "for ind, label in enumerate(age_plot.get_xticklabels()):\n",
    "    if ind % 15 == 0:\n",
    "        label.set_visible(True)\n",
    "    else:\n",
    "        label.set_visible(False)\n",
    "        \n",
    "#There are few outliers in the data. 100+ and less than 15"
   ]
  },
  {
   "cell_type": "code",
   "execution_count": 13,
   "metadata": {},
   "outputs": [
    {
     "data": {
      "text/plain": [
       "count    125461.000000\n",
       "mean         49.668335\n",
       "std         155.666612\n",
       "min           1.000000\n",
       "25%          28.000000\n",
       "50%          34.000000\n",
       "75%          43.000000\n",
       "max        2014.000000\n",
       "Name: age, dtype: float64"
      ]
     },
     "execution_count": 13,
     "metadata": {},
     "output_type": "execute_result"
    }
   ],
   "source": [
    "#looks like there are ages at 1 and above 100.\n",
    "train['age'].describe()"
   ]
  },
  {
   "cell_type": "code",
   "execution_count": 14,
   "metadata": {},
   "outputs": [
    {
     "data": {
      "text/plain": [
       "count    123059.000000\n",
       "mean         36.559211\n",
       "std          11.690611\n",
       "min          15.000000\n",
       "25%          28.000000\n",
       "50%          34.000000\n",
       "75%          42.000000\n",
       "max         100.000000\n",
       "Name: age, dtype: float64"
      ]
     },
     "execution_count": 14,
     "metadata": {},
     "output_type": "execute_result"
    }
   ],
   "source": [
    "#transform outliers into NaN = <15 and >100\n",
    "\n",
    "train.loc[train['age'] < 15, 'age'] = np.NaN\n",
    "train.loc[train['age'] > 100, 'age'] = np.NaN\n",
    "train['age'].describe()"
   ]
  },
  {
   "cell_type": "code",
   "execution_count": 15,
   "metadata": {},
   "outputs": [
    {
     "data": {
      "text/plain": [
       "<matplotlib.axes._subplots.AxesSubplot at 0x24f0ef9f160>"
      ]
     },
     "execution_count": 15,
     "metadata": {},
     "output_type": "execute_result"
    },
    {
     "data": {
      "image/png": "[encoded data removed]",
      "text/plain": [
       "<Figure size 432x288 with 1 Axes>"
      ]
     },
     "metadata": {
      "needs_background": "light"
     },
     "output_type": "display_data"
    }
   ],
   "source": [
    "#Lets check the gender\n",
    "sns.countplot(train['gender'], palette = \"deep\")"
   ]
  },
  {
   "cell_type": "code",
   "execution_count": 16,
   "metadata": {},
   "outputs": [
    {
     "data": {
      "text/plain": [
       "<matplotlib.axes._subplots.AxesSubplot at 0x24f0ef97eb8>"
      ]
     },
     "execution_count": 16,
     "metadata": {},
     "output_type": "execute_result"
    },
    {
     "data": {
      "image/png": "[encoded data removed]",
      "text/plain": [
       "<Figure size 432x288 with 1 Axes>"
      ]
     },
     "metadata": {
      "needs_background": "light"
     },
     "output_type": "display_data"
    }
   ],
   "source": [
    "#change unknowns to NaN\n",
    "train.loc[train['gender'] == '-unknown-', 'gender'] = np.NaN\n",
    "sns.countplot(train['gender'],  palette = \"deep\")"
   ]
  },
  {
   "cell_type": "code",
   "execution_count": 17,
   "metadata": {},
   "outputs": [
    {
     "name": "stdout",
     "output_type": "stream",
     "text": [
      "There are 63041 women and 54440 men in this dataset.\n"
     ]
    }
   ],
   "source": [
    "#Counting the number of male and female\n",
    "women = sum(train['gender'] == 'FEMALE')\n",
    "men = sum(train['gender'] == 'MALE')\n",
    "print('There are', women, 'women and', men, 'men in this dataset.')"
   ]
  },
  {
   "cell_type": "code",
   "execution_count": 18,
   "metadata": {},
   "outputs": [
    {
     "data": {
      "text/html": [
       "<div>\n",
       "<style scoped>\n",
       "    .dataframe tbody tr th:only-of-type {\n",
       "        vertical-align: middle;\n",
       "    }\n",
       "\n",
       "    .dataframe tbody tr th {\n",
       "        vertical-align: top;\n",
       "    }\n",
       "\n",
       "    .dataframe thead th {\n",
       "        text-align: right;\n",
       "    }\n",
       "</style>\n",
       "<table border=\"1\" class=\"dataframe\">\n",
       "  <thead>\n",
       "    <tr style=\"text-align: right;\">\n",
       "      <th></th>\n",
       "      <th>na gender countries</th>\n",
       "      <th>complete gender countries</th>\n",
       "    </tr>\n",
       "  </thead>\n",
       "  <tbody>\n",
       "    <tr>\n",
       "      <th>NDF</th>\n",
       "      <td>69.674358</td>\n",
       "      <td>49.143619</td>\n",
       "    </tr>\n",
       "    <tr>\n",
       "      <th>US</th>\n",
       "      <td>21.015174</td>\n",
       "      <td>35.891579</td>\n",
       "    </tr>\n",
       "    <tr>\n",
       "      <th>other</th>\n",
       "      <td>3.625324</td>\n",
       "      <td>5.625706</td>\n",
       "    </tr>\n",
       "    <tr>\n",
       "      <th>FR</th>\n",
       "      <td>1.790193</td>\n",
       "      <td>2.810730</td>\n",
       "    </tr>\n",
       "    <tr>\n",
       "      <th>IT</th>\n",
       "      <td>1.086866</td>\n",
       "      <td>1.524248</td>\n",
       "    </tr>\n",
       "    <tr>\n",
       "      <th>GB</th>\n",
       "      <td>0.792158</td>\n",
       "      <td>1.329789</td>\n",
       "    </tr>\n",
       "    <tr>\n",
       "      <th>ES</th>\n",
       "      <td>0.747220</td>\n",
       "      <td>1.302616</td>\n",
       "    </tr>\n",
       "    <tr>\n",
       "      <th>CA</th>\n",
       "      <td>0.513126</td>\n",
       "      <td>0.795666</td>\n",
       "    </tr>\n",
       "    <tr>\n",
       "      <th>DE</th>\n",
       "      <td>0.296798</td>\n",
       "      <td>0.659800</td>\n",
       "    </tr>\n",
       "    <tr>\n",
       "      <th>NL</th>\n",
       "      <td>0.237229</td>\n",
       "      <td>0.454302</td>\n",
       "    </tr>\n",
       "    <tr>\n",
       "      <th>AU</th>\n",
       "      <td>0.149444</td>\n",
       "      <td>0.336269</td>\n",
       "    </tr>\n",
       "    <tr>\n",
       "      <th>PT</th>\n",
       "      <td>0.072109</td>\n",
       "      <td>0.125676</td>\n",
       "    </tr>\n",
       "  </tbody>\n",
       "</table>\n",
       "</div>"
      ],
      "text/plain": [
       "       na gender countries  complete gender countries\n",
       "NDF              69.674358                  49.143619\n",
       "US               21.015174                  35.891579\n",
       "other             3.625324                   5.625706\n",
       "FR                1.790193                   2.810730\n",
       "IT                1.086866                   1.524248\n",
       "GB                0.792158                   1.329789\n",
       "ES                0.747220                   1.302616\n",
       "CA                0.513126                   0.795666\n",
       "DE                0.296798                   0.659800\n",
       "NL                0.237229                   0.454302\n",
       "AU                0.149444                   0.336269\n",
       "PT                0.072109                   0.125676"
      ]
     },
     "execution_count": 18,
     "metadata": {},
     "output_type": "execute_result"
    }
   ],
   "source": [
    "#any trend in country destinations in users who put NaN as their gender?\n",
    "\n",
    "#total number who have NaN genders, and their destinations (proportional)\n",
    "na_genders = train.loc[train['gender'].isna(), 'country_destination'].value_counts().sum()\n",
    "na_gender_countries = train.loc[train['gender'].isna(), 'country_destination'].value_counts() / na_genders * 100\n",
    "\n",
    "#non NaN country destinations (proportional)\n",
    "complete_genders = train.loc[train['gender'].notnull(), 'country_destination'].value_counts().sum()\n",
    "complete_gender_countries = train.loc[train['gender'].notnull(), 'country_destination'].value_counts() / complete_genders * 100\n",
    "\n",
    "compared_na_genders = pd.concat([na_gender_countries, complete_gender_countries], axis = 1)\n",
    "compared_na_genders.columns = ['na gender countries', 'complete gender countries']\n",
    "compared_na_genders\n",
    "\n",
    "#so definitely greater proportion of folks who have NaN as a gender don't book a trip anywhere"
   ]
  },
  {
   "cell_type": "code",
   "execution_count": 19,
   "metadata": {},
   "outputs": [
    {
     "data": {
      "text/html": [
       "<div>\n",
       "<style scoped>\n",
       "    .dataframe tbody tr th:only-of-type {\n",
       "        vertical-align: middle;\n",
       "    }\n",
       "\n",
       "    .dataframe tbody tr th {\n",
       "        vertical-align: top;\n",
       "    }\n",
       "\n",
       "    .dataframe thead th {\n",
       "        text-align: right;\n",
       "    }\n",
       "</style>\n",
       "<table border=\"1\" class=\"dataframe\">\n",
       "  <thead>\n",
       "    <tr style=\"text-align: right;\">\n",
       "      <th></th>\n",
       "      <th>female destinations</th>\n",
       "      <th>male destinations</th>\n",
       "    </tr>\n",
       "  </thead>\n",
       "  <tbody>\n",
       "    <tr>\n",
       "      <th>NDF</th>\n",
       "      <td>49.250488</td>\n",
       "      <td>49.079721</td>\n",
       "    </tr>\n",
       "    <tr>\n",
       "      <th>US</th>\n",
       "      <td>35.998794</td>\n",
       "      <td>35.740265</td>\n",
       "    </tr>\n",
       "    <tr>\n",
       "      <th>other</th>\n",
       "      <td>5.012611</td>\n",
       "      <td>6.324394</td>\n",
       "    </tr>\n",
       "    <tr>\n",
       "      <th>FR</th>\n",
       "      <td>3.112260</td>\n",
       "      <td>2.452241</td>\n",
       "    </tr>\n",
       "    <tr>\n",
       "      <th>IT</th>\n",
       "      <td>1.730620</td>\n",
       "      <td>1.283982</td>\n",
       "    </tr>\n",
       "    <tr>\n",
       "      <th>GB</th>\n",
       "      <td>1.397503</td>\n",
       "      <td>1.252755</td>\n",
       "    </tr>\n",
       "    <tr>\n",
       "      <th>ES</th>\n",
       "      <td>1.353088</td>\n",
       "      <td>1.243571</td>\n",
       "    </tr>\n",
       "    <tr>\n",
       "      <th>CA</th>\n",
       "      <td>0.721753</td>\n",
       "      <td>0.876194</td>\n",
       "    </tr>\n",
       "    <tr>\n",
       "      <th>DE</th>\n",
       "      <td>0.567884</td>\n",
       "      <td>0.764144</td>\n",
       "    </tr>\n",
       "    <tr>\n",
       "      <th>NL</th>\n",
       "      <td>0.402912</td>\n",
       "      <td>0.510654</td>\n",
       "    </tr>\n",
       "    <tr>\n",
       "      <th>AU</th>\n",
       "      <td>0.328358</td>\n",
       "      <td>0.345334</td>\n",
       "    </tr>\n",
       "    <tr>\n",
       "      <th>PT</th>\n",
       "      <td>0.123729</td>\n",
       "      <td>0.126745</td>\n",
       "    </tr>\n",
       "  </tbody>\n",
       "</table>\n",
       "</div>"
      ],
      "text/plain": [
       "       female destinations  male destinations\n",
       "NDF              49.250488          49.079721\n",
       "US               35.998794          35.740265\n",
       "other             5.012611           6.324394\n",
       "FR                3.112260           2.452241\n",
       "IT                1.730620           1.283982\n",
       "GB                1.397503           1.252755\n",
       "ES                1.353088           1.243571\n",
       "CA                0.721753           0.876194\n",
       "DE                0.567884           0.764144\n",
       "NL                0.402912           0.510654\n",
       "AU                0.328358           0.345334\n",
       "PT                0.123729           0.126745"
      ]
     },
     "execution_count": 19,
     "metadata": {},
     "output_type": "execute_result"
    }
   ],
   "source": [
    "#Is there an initial trend in where (filled out) genders are going?\n",
    "\n",
    "#find number of female and male users\n",
    "\n",
    "female = train.loc[train['gender'] == 'FEMALE', 'country_destination'].value_counts().sum()\n",
    "male = train.loc[train['gender'] == 'MALE', 'country_destination'].value_counts().sum()\n",
    "\n",
    "#scale according to total numbers of female and male users\n",
    "\n",
    "female_destinations = train.loc[train['gender'] == 'FEMALE', 'country_destination'].value_counts() / female * 100\n",
    "male_destinations = train.loc[train['gender'] == 'MALE', 'country_destination'].value_counts() / male * 100\n",
    "\n",
    "gender_dest = pd.concat([female_destinations, male_destinations], axis=1)\n",
    "gender_dest.columns = ['female destinations', 'male destinations']\n",
    "gender_dest"
   ]
  },
  {
   "cell_type": "code",
   "execution_count": 20,
   "metadata": {},
   "outputs": [
    {
     "data": {
      "text/plain": [
       "Text(0, 0.5, 'Percentage')"
      ]
     },
     "execution_count": 20,
     "metadata": {},
     "output_type": "execute_result"
    },
    {
     "data": {
      "image/png": "[encoded data removed]",
      "text/plain": [
       "<Figure size 432x288 with 1 Axes>"
      ]
     },
     "metadata": {
      "needs_background": "light"
     },
     "output_type": "display_data"
    }
   ],
   "source": [
    "ax = gender_dest.plot.bar(colormap = 'jet', title = 'Percentage of Gender Per Destination')\n",
    "ax.set_xlabel(\"Country Destination\")\n",
    "ax.set_ylabel(\"Percentage\")\n",
    "\n",
    "# Looks just about the same for both groups - nothing stands out here"
   ]
  },
  {
   "cell_type": "code",
   "execution_count": 21,
   "metadata": {},
   "outputs": [
    {
     "data": {
      "text/plain": [
       "(213451, 16)"
      ]
     },
     "execution_count": 21,
     "metadata": {},
     "output_type": "execute_result"
    }
   ],
   "source": [
    "train.shape"
   ]
  },
  {
   "cell_type": "markdown",
   "metadata": {},
   "source": [
    "# Feature engineering"
   ]
  },
  {
   "cell_type": "code",
   "execution_count": 22,
   "metadata": {},
   "outputs": [],
   "source": [
    "#Create Age Buckets to add to our onehot encoded data frame\n",
    "\n",
    "train['Age_Over40'] = (train.age >39).map({True:1,False:0})\n",
    "train['Age_31-39'] = ((train.age<40) & (train.age>30)).map({True:1,False:0})\n",
    "train['Age_15-23'] = ((train.age<15) & (train.age>23)).map({True:1,False:0})\n",
    "train['Age_24-28'] = ((train.age<24) & (train.age>28)).map({True:1,False:0})\n",
    "train['Age_29-35'] = ((train.age<29) & (train.age>35)).map({True:1,False:0})\n",
    "train['Age_36-44'] = ((train.age<36) & (train.age>44)).map({True:1,False:0})\n",
    "train['Age_45-55'] = ((train.age<45) & (train.age>55)).map({True:1,False:0})\n",
    "train['Age_56-65'] = ((train.age<56) & (train.age>65)).map({True:1,False:0})\n",
    "train['Age_66-75'] = ((train.age<56) & (train.age>75)).map({True:1,False:0})\n",
    "train['Age_Under31'] = (train.age <31).map({True:1,False:0})\n",
    "train['Age_Over75'] = (train.age >75).map({True:1,False:0})\n",
    "train['Age_unknown'] = (train.age.isnull()).map({True:1,False:0})"
   ]
  },
  {
   "cell_type": "code",
   "execution_count": 23,
   "metadata": {},
   "outputs": [
    {
     "data": {
      "text/html": [
       "<div>\n",
       "<style scoped>\n",
       "    .dataframe tbody tr th:only-of-type {\n",
       "        vertical-align: middle;\n",
       "    }\n",
       "\n",
       "    .dataframe tbody tr th {\n",
       "        vertical-align: top;\n",
       "    }\n",
       "\n",
       "    .dataframe thead th {\n",
       "        text-align: right;\n",
       "    }\n",
       "</style>\n",
       "<table border=\"1\" class=\"dataframe\">\n",
       "  <thead>\n",
       "    <tr style=\"text-align: right;\">\n",
       "      <th></th>\n",
       "      <th>id</th>\n",
       "      <th>date_account_created</th>\n",
       "      <th>timestamp_first_active</th>\n",
       "      <th>date_first_booking</th>\n",
       "      <th>gender</th>\n",
       "      <th>age</th>\n",
       "      <th>signup_method</th>\n",
       "      <th>signup_flow</th>\n",
       "      <th>language</th>\n",
       "      <th>affiliate_channel</th>\n",
       "      <th>...</th>\n",
       "      <th>Age_15-23</th>\n",
       "      <th>Age_24-28</th>\n",
       "      <th>Age_29-35</th>\n",
       "      <th>Age_36-44</th>\n",
       "      <th>Age_45-55</th>\n",
       "      <th>Age_56-65</th>\n",
       "      <th>Age_66-75</th>\n",
       "      <th>Age_Under31</th>\n",
       "      <th>Age_Over75</th>\n",
       "      <th>Age_unknown</th>\n",
       "    </tr>\n",
       "  </thead>\n",
       "  <tbody>\n",
       "    <tr>\n",
       "      <th>0</th>\n",
       "      <td>gxn3p5htnn</td>\n",
       "      <td>2010-06-28</td>\n",
       "      <td>20090319043255</td>\n",
       "      <td>NaT</td>\n",
       "      <td>NaN</td>\n",
       "      <td>NaN</td>\n",
       "      <td>facebook</td>\n",
       "      <td>0</td>\n",
       "      <td>en</td>\n",
       "      <td>direct</td>\n",
       "      <td>...</td>\n",
       "      <td>0</td>\n",
       "      <td>0</td>\n",
       "      <td>0</td>\n",
       "      <td>0</td>\n",
       "      <td>0</td>\n",
       "      <td>0</td>\n",
       "      <td>0</td>\n",
       "      <td>0</td>\n",
       "      <td>0</td>\n",
       "      <td>1</td>\n",
       "    </tr>\n",
       "    <tr>\n",
       "      <th>1</th>\n",
       "      <td>820tgsjxq7</td>\n",
       "      <td>2011-05-25</td>\n",
       "      <td>20090523174809</td>\n",
       "      <td>NaT</td>\n",
       "      <td>MALE</td>\n",
       "      <td>38.0</td>\n",
       "      <td>facebook</td>\n",
       "      <td>0</td>\n",
       "      <td>en</td>\n",
       "      <td>seo</td>\n",
       "      <td>...</td>\n",
       "      <td>0</td>\n",
       "      <td>0</td>\n",
       "      <td>0</td>\n",
       "      <td>0</td>\n",
       "      <td>0</td>\n",
       "      <td>0</td>\n",
       "      <td>0</td>\n",
       "      <td>0</td>\n",
       "      <td>0</td>\n",
       "      <td>0</td>\n",
       "    </tr>\n",
       "    <tr>\n",
       "      <th>2</th>\n",
       "      <td>4ft3gnwmtx</td>\n",
       "      <td>2010-09-28</td>\n",
       "      <td>20090609231247</td>\n",
       "      <td>2010-08-02</td>\n",
       "      <td>FEMALE</td>\n",
       "      <td>56.0</td>\n",
       "      <td>basic</td>\n",
       "      <td>3</td>\n",
       "      <td>en</td>\n",
       "      <td>direct</td>\n",
       "      <td>...</td>\n",
       "      <td>0</td>\n",
       "      <td>0</td>\n",
       "      <td>0</td>\n",
       "      <td>0</td>\n",
       "      <td>0</td>\n",
       "      <td>0</td>\n",
       "      <td>0</td>\n",
       "      <td>0</td>\n",
       "      <td>0</td>\n",
       "      <td>0</td>\n",
       "    </tr>\n",
       "    <tr>\n",
       "      <th>3</th>\n",
       "      <td>bjjt8pjhuk</td>\n",
       "      <td>2011-12-05</td>\n",
       "      <td>20091031060129</td>\n",
       "      <td>2012-09-08</td>\n",
       "      <td>FEMALE</td>\n",
       "      <td>42.0</td>\n",
       "      <td>facebook</td>\n",
       "      <td>0</td>\n",
       "      <td>en</td>\n",
       "      <td>direct</td>\n",
       "      <td>...</td>\n",
       "      <td>0</td>\n",
       "      <td>0</td>\n",
       "      <td>0</td>\n",
       "      <td>0</td>\n",
       "      <td>0</td>\n",
       "      <td>0</td>\n",
       "      <td>0</td>\n",
       "      <td>0</td>\n",
       "      <td>0</td>\n",
       "      <td>0</td>\n",
       "    </tr>\n",
       "    <tr>\n",
       "      <th>4</th>\n",
       "      <td>87mebub9p4</td>\n",
       "      <td>2010-09-14</td>\n",
       "      <td>20091208061105</td>\n",
       "      <td>2010-02-18</td>\n",
       "      <td>NaN</td>\n",
       "      <td>41.0</td>\n",
       "      <td>basic</td>\n",
       "      <td>0</td>\n",
       "      <td>en</td>\n",
       "      <td>direct</td>\n",
       "      <td>...</td>\n",
       "      <td>0</td>\n",
       "      <td>0</td>\n",
       "      <td>0</td>\n",
       "      <td>0</td>\n",
       "      <td>0</td>\n",
       "      <td>0</td>\n",
       "      <td>0</td>\n",
       "      <td>0</td>\n",
       "      <td>0</td>\n",
       "      <td>0</td>\n",
       "    </tr>\n",
       "  </tbody>\n",
       "</table>\n",
       "<p>5 rows × 28 columns</p>\n",
       "</div>"
      ],
      "text/plain": [
       "           id date_account_created  timestamp_first_active date_first_booking  \\\n",
       "0  gxn3p5htnn           2010-06-28          20090319043255                NaT   \n",
       "1  820tgsjxq7           2011-05-25          20090523174809                NaT   \n",
       "2  4ft3gnwmtx           2010-09-28          20090609231247         2010-08-02   \n",
       "3  bjjt8pjhuk           2011-12-05          20091031060129         2012-09-08   \n",
       "4  87mebub9p4           2010-09-14          20091208061105         2010-02-18   \n",
       "\n",
       "   gender   age signup_method  signup_flow language affiliate_channel  ...  \\\n",
       "0     NaN   NaN      facebook            0       en            direct  ...   \n",
       "1    MALE  38.0      facebook            0       en               seo  ...   \n",
       "2  FEMALE  56.0         basic            3       en            direct  ...   \n",
       "3  FEMALE  42.0      facebook            0       en            direct  ...   \n",
       "4     NaN  41.0         basic            0       en            direct  ...   \n",
       "\n",
       "  Age_15-23 Age_24-28 Age_29-35 Age_36-44 Age_45-55 Age_56-65  Age_66-75  \\\n",
       "0         0         0         0         0         0         0          0   \n",
       "1         0         0         0         0         0         0          0   \n",
       "2         0         0         0         0         0         0          0   \n",
       "3         0         0         0         0         0         0          0   \n",
       "4         0         0         0         0         0         0          0   \n",
       "\n",
       "   Age_Under31  Age_Over75  Age_unknown  \n",
       "0            0           0            1  \n",
       "1            0           0            0  \n",
       "2            0           0            0  \n",
       "3            0           0            0  \n",
       "4            0           0            0  \n",
       "\n",
       "[5 rows x 28 columns]"
      ]
     },
     "execution_count": 23,
     "metadata": {},
     "output_type": "execute_result"
    }
   ],
   "source": [
    "train.head()"
   ]
  },
  {
   "cell_type": "code",
   "execution_count": 24,
   "metadata": {},
   "outputs": [],
   "source": [
    "#One-hot-encoding features\n",
    "ohe_feats = ['gender', 'signup_method', 'signup_flow', 'language', 'affiliate_channel', 'affiliate_provider', 'first_affiliate_tracked', 'signup_app', 'first_device_type', 'first_browser']\n",
    "for f in ohe_feats:\n",
    "    df_all_dummy = pd.get_dummies(train[f], prefix=f)\n",
    "    train = train.drop([f], axis=1)\n",
    "    train = pd.concat((train, df_all_dummy), axis=1)"
   ]
  },
  {
   "cell_type": "code",
   "execution_count": 25,
   "metadata": {},
   "outputs": [],
   "source": [
    "#train test split dataset to measure performance. Original test_users dataset provided by airbnb does not come with labels\n",
    "# so we need to create our own test set\n",
    "x_train,x_test,y_train,y_test = train_test_split(train,train['country_destination'],test_size=0.25,random_state=1)"
   ]
  },
  {
   "cell_type": "code",
   "execution_count": 26,
   "metadata": {},
   "outputs": [
    {
     "data": {
      "text/html": [
       "<div>\n",
       "<style scoped>\n",
       "    .dataframe tbody tr th:only-of-type {\n",
       "        vertical-align: middle;\n",
       "    }\n",
       "\n",
       "    .dataframe tbody tr th {\n",
       "        vertical-align: top;\n",
       "    }\n",
       "\n",
       "    .dataframe thead th {\n",
       "        text-align: right;\n",
       "    }\n",
       "</style>\n",
       "<table border=\"1\" class=\"dataframe\">\n",
       "  <thead>\n",
       "    <tr style=\"text-align: right;\">\n",
       "      <th></th>\n",
       "      <th>id</th>\n",
       "      <th>date_account_created</th>\n",
       "      <th>timestamp_first_active</th>\n",
       "      <th>date_first_booking</th>\n",
       "      <th>age</th>\n",
       "      <th>country_destination</th>\n",
       "      <th>Age_Over40</th>\n",
       "      <th>Age_31-39</th>\n",
       "      <th>Age_15-23</th>\n",
       "      <th>Age_24-28</th>\n",
       "      <th>...</th>\n",
       "      <th>first_browser_SeaMonkey</th>\n",
       "      <th>first_browser_Silk</th>\n",
       "      <th>first_browser_SiteKiosk</th>\n",
       "      <th>first_browser_SlimBrowser</th>\n",
       "      <th>first_browser_Sogou Explorer</th>\n",
       "      <th>first_browser_Stainless</th>\n",
       "      <th>first_browser_TenFourFox</th>\n",
       "      <th>first_browser_TheWorld Browser</th>\n",
       "      <th>first_browser_Yandex.Browser</th>\n",
       "      <th>first_browser_wOSBrowser</th>\n",
       "    </tr>\n",
       "  </thead>\n",
       "  <tbody>\n",
       "    <tr>\n",
       "      <th>72140</th>\n",
       "      <td>h6nbgzamop</td>\n",
       "      <td>2013-04-21</td>\n",
       "      <td>20130421041349</td>\n",
       "      <td>NaT</td>\n",
       "      <td>NaN</td>\n",
       "      <td>NDF</td>\n",
       "      <td>0</td>\n",
       "      <td>0</td>\n",
       "      <td>0</td>\n",
       "      <td>0</td>\n",
       "      <td>...</td>\n",
       "      <td>0</td>\n",
       "      <td>0</td>\n",
       "      <td>0</td>\n",
       "      <td>0</td>\n",
       "      <td>0</td>\n",
       "      <td>0</td>\n",
       "      <td>0</td>\n",
       "      <td>0</td>\n",
       "      <td>0</td>\n",
       "      <td>0</td>\n",
       "    </tr>\n",
       "    <tr>\n",
       "      <th>77397</th>\n",
       "      <td>ofrl7pgcsc</td>\n",
       "      <td>2013-05-16</td>\n",
       "      <td>20130516035347</td>\n",
       "      <td>NaT</td>\n",
       "      <td>NaN</td>\n",
       "      <td>NDF</td>\n",
       "      <td>0</td>\n",
       "      <td>0</td>\n",
       "      <td>0</td>\n",
       "      <td>0</td>\n",
       "      <td>...</td>\n",
       "      <td>0</td>\n",
       "      <td>0</td>\n",
       "      <td>0</td>\n",
       "      <td>0</td>\n",
       "      <td>0</td>\n",
       "      <td>0</td>\n",
       "      <td>0</td>\n",
       "      <td>0</td>\n",
       "      <td>0</td>\n",
       "      <td>0</td>\n",
       "    </tr>\n",
       "    <tr>\n",
       "      <th>163938</th>\n",
       "      <td>q2ul2nql67</td>\n",
       "      <td>2014-03-16</td>\n",
       "      <td>20140316210524</td>\n",
       "      <td>NaT</td>\n",
       "      <td>NaN</td>\n",
       "      <td>NDF</td>\n",
       "      <td>0</td>\n",
       "      <td>0</td>\n",
       "      <td>0</td>\n",
       "      <td>0</td>\n",
       "      <td>...</td>\n",
       "      <td>0</td>\n",
       "      <td>0</td>\n",
       "      <td>0</td>\n",
       "      <td>0</td>\n",
       "      <td>0</td>\n",
       "      <td>0</td>\n",
       "      <td>0</td>\n",
       "      <td>0</td>\n",
       "      <td>0</td>\n",
       "      <td>0</td>\n",
       "    </tr>\n",
       "    <tr>\n",
       "      <th>129449</th>\n",
       "      <td>ws1fquiwoi</td>\n",
       "      <td>2013-12-03</td>\n",
       "      <td>20131203175838</td>\n",
       "      <td>NaT</td>\n",
       "      <td>NaN</td>\n",
       "      <td>NDF</td>\n",
       "      <td>0</td>\n",
       "      <td>0</td>\n",
       "      <td>0</td>\n",
       "      <td>0</td>\n",
       "      <td>...</td>\n",
       "      <td>0</td>\n",
       "      <td>0</td>\n",
       "      <td>0</td>\n",
       "      <td>0</td>\n",
       "      <td>0</td>\n",
       "      <td>0</td>\n",
       "      <td>0</td>\n",
       "      <td>0</td>\n",
       "      <td>0</td>\n",
       "      <td>0</td>\n",
       "    </tr>\n",
       "    <tr>\n",
       "      <th>25397</th>\n",
       "      <td>ry5b80hmkw</td>\n",
       "      <td>2012-05-25</td>\n",
       "      <td>20120525204442</td>\n",
       "      <td>NaT</td>\n",
       "      <td>47.0</td>\n",
       "      <td>NDF</td>\n",
       "      <td>1</td>\n",
       "      <td>0</td>\n",
       "      <td>0</td>\n",
       "      <td>0</td>\n",
       "      <td>...</td>\n",
       "      <td>0</td>\n",
       "      <td>0</td>\n",
       "      <td>0</td>\n",
       "      <td>0</td>\n",
       "      <td>0</td>\n",
       "      <td>0</td>\n",
       "      <td>0</td>\n",
       "      <td>0</td>\n",
       "      <td>0</td>\n",
       "      <td>0</td>\n",
       "    </tr>\n",
       "  </tbody>\n",
       "</table>\n",
       "<p>5 rows × 164 columns</p>\n",
       "</div>"
      ],
      "text/plain": [
       "                id date_account_created  timestamp_first_active  \\\n",
       "72140   h6nbgzamop           2013-04-21          20130421041349   \n",
       "77397   ofrl7pgcsc           2013-05-16          20130516035347   \n",
       "163938  q2ul2nql67           2014-03-16          20140316210524   \n",
       "129449  ws1fquiwoi           2013-12-03          20131203175838   \n",
       "25397   ry5b80hmkw           2012-05-25          20120525204442   \n",
       "\n",
       "       date_first_booking   age country_destination  Age_Over40  Age_31-39  \\\n",
       "72140                 NaT   NaN                 NDF           0          0   \n",
       "77397                 NaT   NaN                 NDF           0          0   \n",
       "163938                NaT   NaN                 NDF           0          0   \n",
       "129449                NaT   NaN                 NDF           0          0   \n",
       "25397                 NaT  47.0                 NDF           1          0   \n",
       "\n",
       "        Age_15-23  Age_24-28  ...  first_browser_SeaMonkey  \\\n",
       "72140           0          0  ...                        0   \n",
       "77397           0          0  ...                        0   \n",
       "163938          0          0  ...                        0   \n",
       "129449          0          0  ...                        0   \n",
       "25397           0          0  ...                        0   \n",
       "\n",
       "        first_browser_Silk  first_browser_SiteKiosk  \\\n",
       "72140                    0                        0   \n",
       "77397                    0                        0   \n",
       "163938                   0                        0   \n",
       "129449                   0                        0   \n",
       "25397                    0                        0   \n",
       "\n",
       "        first_browser_SlimBrowser  first_browser_Sogou Explorer  \\\n",
       "72140                           0                             0   \n",
       "77397                           0                             0   \n",
       "163938                          0                             0   \n",
       "129449                          0                             0   \n",
       "25397                           0                             0   \n",
       "\n",
       "        first_browser_Stainless  first_browser_TenFourFox  \\\n",
       "72140                         0                         0   \n",
       "77397                         0                         0   \n",
       "163938                        0                         0   \n",
       "129449                        0                         0   \n",
       "25397                         0                         0   \n",
       "\n",
       "        first_browser_TheWorld Browser  first_browser_Yandex.Browser  \\\n",
       "72140                                0                             0   \n",
       "77397                                0                             0   \n",
       "163938                               0                             0   \n",
       "129449                               0                             0   \n",
       "25397                                0                             0   \n",
       "\n",
       "        first_browser_wOSBrowser  \n",
       "72140                          0  \n",
       "77397                          0  \n",
       "163938                         0  \n",
       "129449                         0  \n",
       "25397                          0  \n",
       "\n",
       "[5 rows x 164 columns]"
      ]
     },
     "execution_count": 26,
     "metadata": {},
     "output_type": "execute_result"
    }
   ],
   "source": [
    "x_train.head()"
   ]
  },
  {
   "cell_type": "markdown",
   "metadata": {},
   "source": [
    "# Modelling"
   ]
  },
  {
   "cell_type": "markdown",
   "metadata": {},
   "source": [
    "# Random Forest"
   ]
  },
  {
   "cell_type": "code",
   "execution_count": 27,
   "metadata": {},
   "outputs": [
    {
     "data": {
      "text/plain": [
       "RandomForestClassifier(bootstrap=True, class_weight=None, criterion='gini',\n",
       "            max_depth=None, max_features='auto', max_leaf_nodes=None,\n",
       "            min_impurity_decrease=0.0, min_impurity_split=None,\n",
       "            min_samples_leaf=1, min_samples_split=2,\n",
       "            min_weight_fraction_leaf=0.0, n_estimators=10, n_jobs=1,\n",
       "            oob_score=False, random_state=None, verbose=0,\n",
       "            warm_start=False)"
      ]
     },
     "execution_count": 27,
     "metadata": {},
     "output_type": "execute_result"
    }
   ],
   "source": [
    "#Random forest classification - instantiate classifier\n",
    "from sklearn.ensemble import RandomForestClassifier\n",
    "clf = RandomForestClassifier()\n",
    "clf.fit(x_train.iloc[:,6:164],y_train)"
   ]
  },
  {
   "cell_type": "code",
   "execution_count": 28,
   "metadata": {},
   "outputs": [],
   "source": [
    "#predict and store predictions in a series \n",
    "y_preds_rf = clf.predict(x_test.iloc[:,6:164])"
   ]
  },
  {
   "cell_type": "code",
   "execution_count": 29,
   "metadata": {},
   "outputs": [],
   "source": [
    "#add the series to our dataframe\n",
    "x_test['predicted_country'] = y_preds_rf"
   ]
  },
  {
   "cell_type": "code",
   "execution_count": 30,
   "metadata": {},
   "outputs": [],
   "source": [
    "#import packages used for model evaluation\n",
    "\n",
    "from sklearn.metrics import accuracy_score\n",
    "from sklearn.metrics import precision_score,f1_score,recall_score\n",
    "def score(true,pred):\n",
    "    return(precision_score(true,pred,average='weighted'),\n",
    "          recall_score(true,pred,average='weighted'),\n",
    "          f1_score(true,pred,average='weighted'))"
   ]
  },
  {
   "cell_type": "code",
   "execution_count": 31,
   "metadata": {},
   "outputs": [
    {
     "data": {
      "text/plain": [
       "0.6218540936604015"
      ]
     },
     "execution_count": 31,
     "metadata": {},
     "output_type": "execute_result"
    }
   ],
   "source": [
    "#get overall accuracy score for the RF model\n",
    "RF_all = accuracy_score(x_test['country_destination'],x_test['predicted_country'])\n",
    "RF_all"
   ]
  },
  {
   "cell_type": "code",
   "execution_count": 32,
   "metadata": {},
   "outputs": [
    {
     "data": {
      "text/html": [
       "<div>\n",
       "<style scoped>\n",
       "    .dataframe tbody tr th:only-of-type {\n",
       "        vertical-align: middle;\n",
       "    }\n",
       "\n",
       "    .dataframe tbody tr th {\n",
       "        vertical-align: top;\n",
       "    }\n",
       "\n",
       "    .dataframe thead th {\n",
       "        text-align: right;\n",
       "    }\n",
       "</style>\n",
       "<table border=\"1\" class=\"dataframe\">\n",
       "  <thead>\n",
       "    <tr style=\"text-align: right;\">\n",
       "      <th></th>\n",
       "      <th>feature_importance</th>\n",
       "    </tr>\n",
       "  </thead>\n",
       "  <tbody>\n",
       "    <tr>\n",
       "      <th>Age_unknown</th>\n",
       "      <td>0.156315</td>\n",
       "    </tr>\n",
       "    <tr>\n",
       "      <th>signup_method_facebook</th>\n",
       "      <td>0.057382</td>\n",
       "    </tr>\n",
       "    <tr>\n",
       "      <th>signup_method_basic</th>\n",
       "      <td>0.048569</td>\n",
       "    </tr>\n",
       "    <tr>\n",
       "      <th>gender_FEMALE</th>\n",
       "      <td>0.048165</td>\n",
       "    </tr>\n",
       "    <tr>\n",
       "      <th>gender_MALE</th>\n",
       "      <td>0.041351</td>\n",
       "    </tr>\n",
       "    <tr>\n",
       "      <th>Age_Under31</th>\n",
       "      <td>0.040307</td>\n",
       "    </tr>\n",
       "    <tr>\n",
       "      <th>Age_31-39</th>\n",
       "      <td>0.038196</td>\n",
       "    </tr>\n",
       "    <tr>\n",
       "      <th>first_affiliate_tracked_untracked</th>\n",
       "      <td>0.028614</td>\n",
       "    </tr>\n",
       "    <tr>\n",
       "      <th>Age_Over40</th>\n",
       "      <td>0.026957</td>\n",
       "    </tr>\n",
       "    <tr>\n",
       "      <th>first_affiliate_tracked_linked</th>\n",
       "      <td>0.023876</td>\n",
       "    </tr>\n",
       "    <tr>\n",
       "      <th>first_browser_Chrome</th>\n",
       "      <td>0.023223</td>\n",
       "    </tr>\n",
       "    <tr>\n",
       "      <th>signup_flow_3</th>\n",
       "      <td>0.022141</td>\n",
       "    </tr>\n",
       "    <tr>\n",
       "      <th>first_browser_Firefox</th>\n",
       "      <td>0.021073</td>\n",
       "    </tr>\n",
       "    <tr>\n",
       "      <th>signup_flow_0</th>\n",
       "      <td>0.020814</td>\n",
       "    </tr>\n",
       "    <tr>\n",
       "      <th>first_affiliate_tracked_omg</th>\n",
       "      <td>0.018859</td>\n",
       "    </tr>\n",
       "    <tr>\n",
       "      <th>first_device_type_Mac Desktop</th>\n",
       "      <td>0.017297</td>\n",
       "    </tr>\n",
       "    <tr>\n",
       "      <th>first_device_type_Windows Desktop</th>\n",
       "      <td>0.016068</td>\n",
       "    </tr>\n",
       "    <tr>\n",
       "      <th>first_browser_Safari</th>\n",
       "      <td>0.015070</td>\n",
       "    </tr>\n",
       "    <tr>\n",
       "      <th>signup_flow_2</th>\n",
       "      <td>0.014498</td>\n",
       "    </tr>\n",
       "    <tr>\n",
       "      <th>language_en</th>\n",
       "      <td>0.013140</td>\n",
       "    </tr>\n",
       "    <tr>\n",
       "      <th>first_affiliate_tracked_tracked-other</th>\n",
       "      <td>0.012230</td>\n",
       "    </tr>\n",
       "    <tr>\n",
       "      <th>affiliate_channel_sem-non-brand</th>\n",
       "      <td>0.012182</td>\n",
       "    </tr>\n",
       "    <tr>\n",
       "      <th>first_browser_-unknown-</th>\n",
       "      <td>0.011889</td>\n",
       "    </tr>\n",
       "    <tr>\n",
       "      <th>affiliate_channel_sem-brand</th>\n",
       "      <td>0.011669</td>\n",
       "    </tr>\n",
       "    <tr>\n",
       "      <th>affiliate_provider_google</th>\n",
       "      <td>0.011557</td>\n",
       "    </tr>\n",
       "    <tr>\n",
       "      <th>first_browser_IE</th>\n",
       "      <td>0.011362</td>\n",
       "    </tr>\n",
       "    <tr>\n",
       "      <th>affiliate_channel_content</th>\n",
       "      <td>0.010831</td>\n",
       "    </tr>\n",
       "    <tr>\n",
       "      <th>affiliate_channel_seo</th>\n",
       "      <td>0.009416</td>\n",
       "    </tr>\n",
       "  </tbody>\n",
       "</table>\n",
       "</div>"
      ],
      "text/plain": [
       "                                       feature_importance\n",
       "Age_unknown                                      0.156315\n",
       "signup_method_facebook                           0.057382\n",
       "signup_method_basic                              0.048569\n",
       "gender_FEMALE                                    0.048165\n",
       "gender_MALE                                      0.041351\n",
       "Age_Under31                                      0.040307\n",
       "Age_31-39                                        0.038196\n",
       "first_affiliate_tracked_untracked                0.028614\n",
       "Age_Over40                                       0.026957\n",
       "first_affiliate_tracked_linked                   0.023876\n",
       "first_browser_Chrome                             0.023223\n",
       "signup_flow_3                                    0.022141\n",
       "first_browser_Firefox                            0.021073\n",
       "signup_flow_0                                    0.020814\n",
       "first_affiliate_tracked_omg                      0.018859\n",
       "first_device_type_Mac Desktop                    0.017297\n",
       "first_device_type_Windows Desktop                0.016068\n",
       "first_browser_Safari                             0.015070\n",
       "signup_flow_2                                    0.014498\n",
       "language_en                                      0.013140\n",
       "first_affiliate_tracked_tracked-other            0.012230\n",
       "affiliate_channel_sem-non-brand                  0.012182\n",
       "first_browser_-unknown-                          0.011889\n",
       "affiliate_channel_sem-brand                      0.011669\n",
       "affiliate_provider_google                        0.011557\n",
       "first_browser_IE                                 0.011362\n",
       "affiliate_channel_content                        0.010831\n",
       "affiliate_channel_seo                            0.009416"
      ]
     },
     "execution_count": 32,
     "metadata": {},
     "output_type": "execute_result"
    }
   ],
   "source": [
    "#FEATURE SELECTION - check most important features to the random forest algorithm\n",
    "featureImportance = pd.DataFrame(clf.feature_importances_,x_train.columns[6:164],columns=['feature_importance']).sort_values([\"feature_importance\"],ascending=False)\n",
    "featureImportance.head(28)"
   ]
  },
  {
   "cell_type": "code",
   "execution_count": 33,
   "metadata": {},
   "outputs": [],
   "source": [
    "#split the data again using only the top 25 features\n",
    "#x_train,x_test,y_train,y_test = train_test_split(x_train.loc[:,list(featureImportance[:25].index)],x_train['country_destination'],test_size=0.25,random_state=1)"
   ]
  },
  {
   "cell_type": "code",
   "execution_count": 34,
   "metadata": {},
   "outputs": [],
   "source": [
    "#Generate Predictions for RF classifier with 25 features - 61.74%\n",
    "\n",
    "#clf = RandomForestClassifier()\n",
    "#clf.fit(x_train,y_train)\n",
    "#preds = clf.predict(x_test)"
   ]
  },
  {
   "cell_type": "code",
   "execution_count": 35,
   "metadata": {},
   "outputs": [],
   "source": [
    "#New accuracy score - .4% less in classification, and a simpler model !\n",
    "\n",
    "#RF = accuracy_score(y_test,preds)\n",
    "#RF"
   ]
  },
  {
   "cell_type": "markdown",
   "metadata": {},
   "source": [
    "# Naive Bayes"
   ]
  },
  {
   "cell_type": "code",
   "execution_count": 36,
   "metadata": {},
   "outputs": [],
   "source": [
    "#import NB package\n",
    "from sklearn.naive_bayes import BernoulliNB"
   ]
  },
  {
   "cell_type": "code",
   "execution_count": 38,
   "metadata": {},
   "outputs": [],
   "source": [
    "#Generate predictions using Naive Bayes\n",
    "\n",
    "clf = BernoulliNB()\n",
    "clf.fit(x_train.iloc[:,6:164],y_train)\n",
    "y_preds_NB = clf.predict(x_test.iloc[:,6:164])"
   ]
  },
  {
   "cell_type": "code",
   "execution_count": 39,
   "metadata": {},
   "outputs": [
    {
     "data": {
      "text/plain": [
       "0.5867548676048948"
      ]
     },
     "execution_count": 39,
     "metadata": {},
     "output_type": "execute_result"
    }
   ],
   "source": [
    "#NB accuracy score - 58.67%, lower than baseline - Almost same output with 25 or all features\n",
    "\n",
    "BNB = accuracy_score(y_test,y_preds_NB)\n",
    "BNB"
   ]
  },
  {
   "cell_type": "markdown",
   "metadata": {},
   "source": [
    "# Neural Network"
   ]
  },
  {
   "cell_type": "code",
   "execution_count": 41,
   "metadata": {},
   "outputs": [],
   "source": [
    "#import NN package\n",
    "\n",
    "from sklearn.neural_network import MLPClassifier"
   ]
  },
  {
   "cell_type": "code",
   "execution_count": 42,
   "metadata": {},
   "outputs": [],
   "source": [
    "#Generate prediction using Neural Net\n",
    "\n",
    "clf = MLPClassifier()\n",
    "clf.fit(x_train.iloc[:,6:164],y_train)\n",
    "y_preds_NN = clf.predict(x_test.iloc[:,6:164])"
   ]
  },
  {
   "cell_type": "code",
   "execution_count": 43,
   "metadata": {},
   "outputs": [
    {
     "data": {
      "text/plain": [
       "0.6353653280362798"
      ]
     },
     "execution_count": 43,
     "metadata": {},
     "output_type": "execute_result"
    }
   ],
   "source": [
    "#Neural Network accuracy score - 63.3% with all features.\n",
    "\n",
    "NN = accuracy_score(y_test,y_preds_NN)\n",
    "NN"
   ]
  },
  {
   "cell_type": "markdown",
   "metadata": {},
   "source": [
    "# XGBoost"
   ]
  },
  {
   "cell_type": "code",
   "execution_count": 44,
   "metadata": {},
   "outputs": [],
   "source": [
    "#import XGBoost package\n",
    "from xgboost.sklearn import XGBClassifier"
   ]
  },
  {
   "cell_type": "code",
   "execution_count": 46,
   "metadata": {},
   "outputs": [],
   "source": [
    "#Classifier\n",
    "xgb = XGBClassifier(max_depth=6, learning_rate=0.3, n_estimators=25,\n",
    "                    objective='multi:softprob', subsample=0.5, colsample_bytree=0.5, seed=0)                  \n",
    "xgb.fit(x_train.iloc[:,6:164], y_train)\n",
    "y_preds_XGB = xgb.predict(x_test.iloc[:,6:164])  "
   ]
  },
  {
   "cell_type": "code",
   "execution_count": 47,
   "metadata": {},
   "outputs": [
    {
     "data": {
      "text/plain": [
       "0.6351779322751719"
      ]
     },
     "execution_count": 47,
     "metadata": {},
     "output_type": "execute_result"
    }
   ],
   "source": [
    "#XGBoost accuracy score - 63.51% with all features.\n",
    "\n",
    "XGB = accuracy_score(y_test,y_preds_XGB)\n",
    "XGB"
   ]
  },
  {
   "cell_type": "markdown",
   "metadata": {},
   "source": [
    "# Decision Trees"
   ]
  },
  {
   "cell_type": "code",
   "execution_count": 48,
   "metadata": {},
   "outputs": [],
   "source": [
    "#import DecisionTreeClassifier package\n",
    "from sklearn.tree import DecisionTreeClassifier"
   ]
  },
  {
   "cell_type": "code",
   "execution_count": 49,
   "metadata": {},
   "outputs": [],
   "source": [
    "#DecisionTreeClassifier\n",
    "dtc = DecisionTreeClassifier(random_state=42, criterion=\"entropy\",\n",
    "                             min_samples_split=20, min_samples_leaf=20, max_depth=30, max_leaf_nodes=40)\n",
    "dtc.fit(x_train.iloc[:,6:164], y_train)\n",
    "y_preds_dtc = dtc.predict(x_test.iloc[:,6:164])  "
   ]
  },
  {
   "cell_type": "code",
   "execution_count": 50,
   "metadata": {},
   "outputs": [
    {
     "data": {
      "text/plain": [
       "0.6339411202518599"
      ]
     },
     "execution_count": 50,
     "metadata": {},
     "output_type": "execute_result"
    }
   ],
   "source": [
    "#DecisionTreeClassifier accuracy score - 63.33% with all features.\n",
    "\n",
    "DTC = accuracy_score(y_test,y_preds_dtc)\n",
    "DTC"
   ]
  },
  {
   "cell_type": "markdown",
   "metadata": {},
   "source": [
    "# KNN"
   ]
  },
  {
   "cell_type": "code",
   "execution_count": 54,
   "metadata": {},
   "outputs": [],
   "source": [
    "from sklearn.neighbors import KNeighborsClassifier"
   ]
  },
  {
   "cell_type": "code",
   "execution_count": 55,
   "metadata": {},
   "outputs": [],
   "source": [
    "#KNN\n",
    "\n",
    "knn_clf = KNeighborsClassifier(n_neighbors=3)\n",
    "knn_clf.fit(x_train.iloc[:,6:164], y_train)\n",
    "\n",
    "y_preds_knn = knn_clf.predict(x_test.iloc[:,6:164])"
   ]
  },
  {
   "cell_type": "code",
   "execution_count": 56,
   "metadata": {},
   "outputs": [
    {
     "data": {
      "text/plain": [
       "0.5540355677154583"
      ]
     },
     "execution_count": 56,
     "metadata": {},
     "output_type": "execute_result"
    }
   ],
   "source": [
    "#KNN accuracy score - 55.40% with all features.\n",
    "\n",
    "KNN = accuracy_score(y_test,y_preds_knn)\n",
    "KNN"
   ]
  },
  {
   "cell_type": "markdown",
   "metadata": {},
   "source": [
    "# SVM - Linear"
   ]
  },
  {
   "cell_type": "code",
   "execution_count": 57,
   "metadata": {},
   "outputs": [],
   "source": [
    "from sklearn.svm import SVC"
   ]
  },
  {
   "cell_type": "code",
   "execution_count": 58,
   "metadata": {},
   "outputs": [],
   "source": [
    "#SVM\n",
    "\n",
    "svm_clf = SVC(kernel=\"linear\", C=0.025)\n",
    "svm_clf.fit(x_train.iloc[:,6:164], y_train)\n",
    "y_pred_svm = svm_clf.predict(x_test.iloc[:,6:164])"
   ]
  },
  {
   "cell_type": "code",
   "execution_count": 59,
   "metadata": {},
   "outputs": [
    {
     "data": {
      "text/plain": [
       "0.6318985064557839"
      ]
     },
     "execution_count": 59,
     "metadata": {},
     "output_type": "execute_result"
    }
   ],
   "source": [
    "#SVM accuracy score - 63.18% with all features.\n",
    "\n",
    "SVM = accuracy_score(y_test,y_pred_svm)\n",
    "SVM"
   ]
  },
  {
   "cell_type": "markdown",
   "metadata": {},
   "source": [
    "# Model Performance"
   ]
  },
  {
   "cell_type": "code",
   "execution_count": 60,
   "metadata": {},
   "outputs": [
    {
     "data": {
      "text/html": [
       "<div>\n",
       "<style scoped>\n",
       "    .dataframe tbody tr th:only-of-type {\n",
       "        vertical-align: middle;\n",
       "    }\n",
       "\n",
       "    .dataframe tbody tr th {\n",
       "        vertical-align: top;\n",
       "    }\n",
       "\n",
       "    .dataframe thead th {\n",
       "        text-align: right;\n",
       "    }\n",
       "</style>\n",
       "<table border=\"1\" class=\"dataframe\">\n",
       "  <thead>\n",
       "    <tr style=\"text-align: right;\">\n",
       "      <th></th>\n",
       "      <th>Random Forest</th>\n",
       "      <th>Bernoulli Naive Bayes</th>\n",
       "      <th>Neural Network</th>\n",
       "      <th>XGBoost</th>\n",
       "      <th>Decision Trees</th>\n",
       "      <th>KNN</th>\n",
       "      <th>SVM</th>\n",
       "      <th>Baseline</th>\n",
       "    </tr>\n",
       "  </thead>\n",
       "  <tbody>\n",
       "    <tr>\n",
       "      <th>0</th>\n",
       "      <td>0.621854</td>\n",
       "      <td>0.586755</td>\n",
       "      <td>0.635365</td>\n",
       "      <td>0.635178</td>\n",
       "      <td>0.633941</td>\n",
       "      <td>0.554036</td>\n",
       "      <td>0.631899</td>\n",
       "      <td>0.55</td>\n",
       "    </tr>\n",
       "  </tbody>\n",
       "</table>\n",
       "</div>"
      ],
      "text/plain": [
       "   Random Forest  Bernoulli Naive Bayes  Neural Network   XGBoost  \\\n",
       "0       0.621854               0.586755        0.635365  0.635178   \n",
       "\n",
       "   Decision Trees       KNN       SVM  Baseline  \n",
       "0        0.633941  0.554036  0.631899      0.55  "
      ]
     },
     "execution_count": 60,
     "metadata": {},
     "output_type": "execute_result"
    }
   ],
   "source": [
    "#Accuracy of each model\n",
    "\n",
    "pd.DataFrame({'Random Forest':RF_all,'Bernoulli Naive Bayes':BNB,'Neural Network':NN,'XGBoost':XGB,'Decision Trees': DTC,'KNN': KNN,'SVM':SVM,'Baseline':0.55},index=[0])"
   ]
  },
  {
   "cell_type": "code",
   "execution_count": null,
   "metadata": {},
   "outputs": [],
   "source": []
  }
 ],
 "metadata": {
  "kernelspec": {
   "display_name": "Python 3",
   "language": "python",
   "name": "python3"
  },
  "language_info": {
   "codemirror_mode": {
    "name": "ipython",
    "version": 3
   },
   "file_extension": ".py",
   "mimetype": "text/x-python",
   "name": "python",
   "nbconvert_exporter": "python",
   "pygments_lexer": "ipython3",
   "version": "3.7.3"
  }
 },
 "nbformat": 4,
 "nbformat_minor": 2
}
